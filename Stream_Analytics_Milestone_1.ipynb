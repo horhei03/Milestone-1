{
  "nbformat": 4,
  "nbformat_minor": 0,
  "metadata": {
    "colab": {
      "provenance": []
    },
    "kernelspec": {
      "name": "python3",
      "display_name": "Python 3"
    },
    "language_info": {
      "name": "python"
    }
  },
  "cells": [
    {
      "cell_type": "markdown",
      "source": [
        "#Milestone 1"
      ],
      "metadata": {
        "id": "bUMKeYByn6G_"
      }
    },
    {
      "cell_type": "markdown",
      "source": [
        "**Group 10:** Nicolas Cubillo, Pablo Gomez, Sebastian Llobet, Pablo Jaime Rivera, Jorge Rodriguez"
      ],
      "metadata": {
        "id": "hmUhE78DCgSn"
      }
    },
    {
      "cell_type": "markdown",
      "source": [
        "## Data Feeds + Schemas"
      ],
      "metadata": {
        "id": "OZ-sUy5On-v-"
      }
    },
    {
      "cell_type": "markdown",
      "source": [
        "### Feed 1: Passenger Requests"
      ],
      "metadata": {
        "id": "EjSB4L5WoBtm"
      }
    },
    {
      "cell_type": "markdown",
      "source": [
        "Includes ride requests and cancellations"
      ],
      "metadata": {
        "id": "sgB2LtOPoSgZ"
      }
    },
    {
      "cell_type": "code",
      "source": [
        "PASSENGER_REQUEST_SCHEMA = {\n",
        "  \"type\": \"record\",\n",
        "  \"name\": \"PassengerRequest\",\n",
        "  \"fields\": [\n",
        "    {\n",
        "      \"name\": \"request_id\",\n",
        "      \"type\": \"string\",\n",
        "      \"doc\": \"Unique identifier for the passenger request.\"\n",
        "    },\n",
        "    {\n",
        "      \"name\": \"user_id\",\n",
        "      \"type\": \"string\",\n",
        "      \"doc\": \"Unique identifier for the user making the request.\"\n",
        "    },\n",
        "    {\n",
        "      \"name\": \"event_type\",\n",
        "      \"type\": {\n",
        "        \"type\": \"enum\",\n",
        "        \"name\": \"EventType\",\n",
        "        \"symbols\": [\"request\", \"cancel\"]\n",
        "      },\n",
        "      \"doc\": \"Type of event, either a ride request or a cancellation.\"\n",
        "    },\n",
        "    {\n",
        "      \"name\": \"timestamp\",\n",
        "      \"type\": \"long\",\n",
        "      \"doc\": \"Epoch timestamp indicating when the request was made.\"\n",
        "    },\n",
        "    {\n",
        "      \"name\": \"pickup_latitude\",\n",
        "      \"type\": \"double\",\n",
        "      \"doc\": \"Latitude coordinate of the pickup location.\"\n",
        "    },\n",
        "    {\n",
        "      \"name\": \"pickup_longitude\",\n",
        "      \"type\": \"double\",\n",
        "      \"doc\": \"Longitude coordinate of the pickup location.\"\n",
        "    },\n",
        "    {\n",
        "      \"name\": \"pickup_address\",\n",
        "      \"type\": \"string\",\n",
        "      \"doc\": \"Readable address of the pickup location.\"\n",
        "    },\n",
        "    {\n",
        "      \"name\": \"dropoff_latitude\",\n",
        "      \"type\": \"double\",\n",
        "      \"doc\": \"Latitude coordinate of the dropoff location.\"\n",
        "    },\n",
        "    {\n",
        "      \"name\": \"dropoff_longitude\",\n",
        "      \"type\": \"double\",\n",
        "      \"doc\": \"Longitude coordinate of the dropoff location.\"\n",
        "    },\n",
        "    {\n",
        "      \"name\": \"dropoff_address\",\n",
        "      \"type\": \"string\",\n",
        "      \"doc\": \"Readable address of the dropoff location.\"\n",
        "    },\n",
        "    {\n",
        "      \"name\": \"payment_method\",\n",
        "      \"type\": {\n",
        "        \"type\": \"enum\",\n",
        "        \"name\": \"PaymentMethod\",\n",
        "        \"symbols\": [\"credit_card\", \"debit_card\", \"cash\", \"mobile_payment\"]\n",
        "      },\n",
        "      \"doc\": \"Payment method chosen by the user.\"\n",
        "    },\n",
        "    {\n",
        "      \"name\": \"vehicle_type\",\n",
        "      \"type\": {\n",
        "        \"type\": \"enum\",\n",
        "        \"name\": \"VehicleType\",\n",
        "        \"symbols\": [\"standard\", \"premium\", \"luxury\", \"pool\"]\n",
        "      },\n",
        "      \"doc\": \"Type of vehicle requested for the ride.\"\n",
        "    },\n",
        "    {\n",
        "      \"name\": \"num_passengers\",\n",
        "      \"type\": \"int\",\n",
        "      \"doc\": \"Number of passengers included in the ride request.\"\n",
        "    },\n",
        "    {\n",
        "      \"name\": \"fare_estimate\",\n",
        "      \"type\": \"float\",\n",
        "      \"doc\": \"Estimated fare for the requested ride.\"\n",
        "    },\n",
        "    {\n",
        "      \"name\": \"ride_purpose\",\n",
        "      \"type\": {\n",
        "        \"type\": \"enum\",\n",
        "        \"name\": \"RidePurpose\",\n",
        "        \"symbols\": [\"commute\", \"airport\", \"business\", \"leisure\"]\n",
        "      },\n",
        "      \"doc\": \"Purpose of the ride request.\"\n",
        "    },\n",
        "    {\n",
        "      \"name\": \"device_type\",\n",
        "      \"type\": {\n",
        "        \"type\": \"enum\",\n",
        "        \"name\": \"DeviceType\",\n",
        "        \"symbols\": [\"mobile\", \"web\"]\n",
        "      },\n",
        "      \"doc\": \"Type of device used to make the ride request.\"\n",
        "    }\n",
        "  ]\n",
        "}\n",
        "\n"
      ],
      "metadata": {
        "id": "JoT3jW1Yn-Td"
      },
      "execution_count": 1,
      "outputs": []
    },
    {
      "cell_type": "markdown",
      "source": [
        "### Feed 2: Ride Status"
      ],
      "metadata": {
        "id": "znXaJ7mbobcU"
      }
    },
    {
      "cell_type": "markdown",
      "source": [
        "Tracks Accepted, Ongoing, Completed, Cancelled"
      ],
      "metadata": {
        "id": "VMC6bzVtofNw"
      }
    },
    {
      "cell_type": "code",
      "source": [
        "RIDE_STATUS_SCHEMA = {\n",
        "  \"type\": \"record\",\n",
        "  \"name\": \"RideStatus\",\n",
        "  \"fields\": [\n",
        "    {\n",
        "      \"name\": \"ride_id\",\n",
        "      \"type\": \"string\",\n",
        "      \"doc\": \"Unique identifier for the ride.\"\n",
        "    },\n",
        "    {\n",
        "      \"name\": \"request_id\",\n",
        "      \"type\": \"string\",\n",
        "      \"doc\": \"Identifier linking this ride status to the original ride request.\"\n",
        "    },\n",
        "    {\n",
        "      \"name\": \"status\",\n",
        "      \"type\": {\n",
        "        \"type\": \"enum\",\n",
        "        \"name\": \"RideStatusEnum\",\n",
        "        \"symbols\": [\"accepted\", \"ongoing\", \"completed\", \"cancelled\"]\n",
        "      },\n",
        "      \"doc\": \"Current status of the ride.\"\n",
        "    },\n",
        "    {\n",
        "      \"name\": \"timestamp\",\n",
        "      \"type\": \"long\",\n",
        "      \"doc\": \"Epoch timestamp indicating when the status was recorded.\"\n",
        "    },\n",
        "    {\n",
        "      \"name\": \"driver_id\",\n",
        "      \"type\": \"string\",\n",
        "      \"doc\": \"Unique identifier for the driver assigned to the ride.\"\n",
        "    },\n",
        "    {\n",
        "      \"name\": \"estimated_arrival_time\",\n",
        "      \"type\": \"long\",\n",
        "      \"doc\": \"Estimated epoch timestamp of when the driver is expected to arrive at the pickup location.\"\n",
        "    },\n",
        "    {\n",
        "      \"name\": \"actual_arrival_time\",\n",
        "      \"type\": [\"null\", \"long\"],\n",
        "      \"default\": None,\n",
        "      \"doc\": \"Actual epoch timestamp when the driver arrived at the pickup location. Null if not yet arrived.\"\n",
        "    },\n",
        "    {\n",
        "      \"name\": \"ride_duration\",\n",
        "      \"type\": [\"null\", \"int\"],\n",
        "      \"default\": None,\n",
        "      \"doc\": \"Duration of the ride in minutes. Null if ride is not completed.\"\n",
        "    },\n",
        "    {\n",
        "      \"name\": \"distance_traveled\",\n",
        "      \"type\": [\"null\", \"float\"],\n",
        "      \"default\": None,\n",
        "      \"doc\": \"Total distance traveled during the ride in kilometers. Null if ride is not completed.\"\n",
        "    },\n",
        "    {\n",
        "      \"name\": \"fare\",\n",
        "      \"type\": \"float\",\n",
        "      \"doc\": \"Final fare amount for the ride.\"\n",
        "    },\n",
        "    {\n",
        "      \"name\": \"surge_multiplier\",\n",
        "      \"type\": \"float\",\n",
        "      \"doc\": \"Surge pricing multiplier applied to the fare.\"\n",
        "    },\n",
        "    {\n",
        "      \"name\": \"traffic_condition\",\n",
        "      \"type\": {\n",
        "        \"type\": \"enum\",\n",
        "        \"name\": \"TrafficCondition\",\n",
        "        \"symbols\": [\"low\", \"medium\", \"high\"]\n",
        "      },\n",
        "      \"doc\": \"Traffic conditions during the ride.\"\n",
        "    },\n",
        "    {\n",
        "      \"name\": \"weather_condition\",\n",
        "      \"type\": {\n",
        "        \"type\": \"enum\",\n",
        "        \"name\": \"WeatherCondition\",\n",
        "        \"symbols\": [\"clear\", \"rainy\", \"snowy\", \"foggy\", \"stormy\"]\n",
        "      },\n",
        "      \"doc\": \"Weather conditions at the time of the ride.\"\n",
        "    },\n",
        "    {\n",
        "      \"name\": \"day_of_week\",\n",
        "      \"type\": {\n",
        "        \"type\": \"enum\",\n",
        "        \"name\": \"DayOfWeek\",\n",
        "        \"symbols\": [\"Monday\", \"Tuesday\", \"Wednesday\", \"Thursday\", \"Friday\", \"Saturday\", \"Sunday\"]\n",
        "      },\n",
        "      \"doc\": \"Day of the week when the ride took place.\"\n",
        "    },\n",
        "    {\n",
        "      \"name\": \"driver_rating\",\n",
        "      \"type\": [\"null\", \"float\"],\n",
        "      \"default\": None,\n",
        "      \"doc\": \"Driver's rating for the ride (scale 1-5). Null if ride not completed.\"\n",
        "    },\n",
        "    {\n",
        "      \"name\": \"cancellation_reason\",\n",
        "      \"type\": [\"null\", {\n",
        "        \"type\": \"enum\",\n",
        "        \"name\": \"CancellationReason\",\n",
        "        \"symbols\": [\"user_request\", \"driver_unavailable\", \"technical_issue\"]\n",
        "      }],\n",
        "      \"default\": None,\n",
        "      \"doc\": \"Reason for ride cancellation, if applicable. Null if not cancelled.\"\n",
        "    },\n",
        "    {\n",
        "      \"name\": \"payment_status\",\n",
        "      \"type\": {\n",
        "        \"type\": \"enum\",\n",
        "        \"name\": \"PaymentStatus\",\n",
        "        \"symbols\": [\"pending\", \"completed\", \"failed\"]\n",
        "      },\n",
        "      \"doc\": \"Current status of the ride payment.\"\n",
        "    }\n",
        "  ]\n",
        "}\n"
      ],
      "metadata": {
        "id": "2_gz9YYaoZb7"
      },
      "execution_count": 2,
      "outputs": []
    },
    {
      "cell_type": "markdown",
      "source": [
        "## Data Generation"
      ],
      "metadata": {
        "id": "ddTdxD4MpSiu"
      }
    },
    {
      "cell_type": "code",
      "source": [
        "!pip install Faker"
      ],
      "metadata": {
        "colab": {
          "base_uri": "https://localhost:8080/"
        },
        "collapsed": true,
        "id": "LyzeTVE7h5ef",
        "outputId": "d6f6183a-0b9e-48e3-b4e2-10d9a70f61f7"
      },
      "execution_count": 3,
      "outputs": [
        {
          "output_type": "stream",
          "name": "stdout",
          "text": [
            "Collecting Faker\n",
            "  Downloading faker-36.2.2-py3-none-any.whl.metadata (15 kB)\n",
            "Requirement already satisfied: tzdata in /usr/local/lib/python3.11/dist-packages (from Faker) (2025.1)\n",
            "Downloading faker-36.2.2-py3-none-any.whl (1.9 MB)\n",
            "\u001b[2K   \u001b[90m━━━━━━━━━━━━━━━━━━━━━━━━━━━━━━━━━━━━━━━━\u001b[0m \u001b[32m1.9/1.9 MB\u001b[0m \u001b[31m20.5 MB/s\u001b[0m eta \u001b[36m0:00:00\u001b[0m\n",
            "\u001b[?25hInstalling collected packages: Faker\n",
            "Successfully installed Faker-36.2.2\n"
          ]
        }
      ]
    },
    {
      "cell_type": "code",
      "source": [
        "!pip install mimesis"
      ],
      "metadata": {
        "colab": {
          "base_uri": "https://localhost:8080/"
        },
        "collapsed": true,
        "id": "thMPg6htiCxK",
        "outputId": "7fe436dc-03e4-462d-b948-efdfcec483cb"
      },
      "execution_count": 4,
      "outputs": [
        {
          "output_type": "stream",
          "name": "stdout",
          "text": [
            "Collecting mimesis\n",
            "  Downloading mimesis-18.0.0-py3-none-any.whl.metadata (5.7 kB)\n",
            "Downloading mimesis-18.0.0-py3-none-any.whl (4.7 MB)\n",
            "\u001b[2K   \u001b[90m━━━━━━━━━━━━━━━━━━━━━━━━━━━━━━━━━━━━━━━━\u001b[0m \u001b[32m4.7/4.7 MB\u001b[0m \u001b[31m26.6 MB/s\u001b[0m eta \u001b[36m0:00:00\u001b[0m\n",
            "\u001b[?25hInstalling collected packages: mimesis\n",
            "Successfully installed mimesis-18.0.0\n"
          ]
        }
      ]
    },
    {
      "cell_type": "code",
      "source": [
        "!pip install fastavro"
      ],
      "metadata": {
        "colab": {
          "base_uri": "https://localhost:8080/"
        },
        "collapsed": true,
        "id": "F-zu_6UBiL0C",
        "outputId": "b9800ca1-a1ae-4cfb-b512-ce846dd36bcc"
      },
      "execution_count": 5,
      "outputs": [
        {
          "output_type": "stream",
          "name": "stdout",
          "text": [
            "Collecting fastavro\n",
            "  Downloading fastavro-1.10.0-cp311-cp311-manylinux_2_17_x86_64.manylinux2014_x86_64.whl.metadata (5.5 kB)\n",
            "Downloading fastavro-1.10.0-cp311-cp311-manylinux_2_17_x86_64.manylinux2014_x86_64.whl (3.3 MB)\n",
            "\u001b[2K   \u001b[90m━━━━━━━━━━━━━━━━━━━━━━━━━━━━━━━━━━━━━━━━\u001b[0m \u001b[32m3.3/3.3 MB\u001b[0m \u001b[31m33.6 MB/s\u001b[0m eta \u001b[36m0:00:00\u001b[0m\n",
            "\u001b[?25hInstalling collected packages: fastavro\n",
            "Successfully installed fastavro-1.10.0\n"
          ]
        }
      ]
    },
    {
      "cell_type": "code",
      "source": [
        "import random\n",
        "import time\n",
        "import json\n",
        "from datetime import datetime, timedelta\n",
        "import numpy as np\n",
        "import pandas as pd\n",
        "from faker import Faker\n",
        "from mimesis import Person, Address\n",
        "from mimesis.locales import Locale\n",
        "import fastavro\n",
        "\n",
        "# Initialize Faker and Mimesis\n",
        "fake = Faker()\n",
        "person = Person(locale=Locale.EN)\n",
        "address = Address(locale=Locale.EN)\n",
        "\n",
        "# Define peak hours (higher ride requests)\n",
        "PEAK_HOURS = [(7, 10.5), (16, 20)]  # Weekday rush hours\n",
        "WEEKEND_PEAK_HOURS = [(12, 23)]  # Weekend peak hours\n",
        "NIGHT_HOURS = (22, 5)  # Nighttime range\n",
        "\n",
        "# Traffic and weather impact factors\n",
        "TRAFFIC_CONDITIONS = {\"low\": 1.0, \"medium\": 1.2, \"high\": 1.5}\n",
        "WEATHER_CONDITIONS = {\"clear\": 1.0, \"rainy\": 1.3, \"snowy\": 1.5, \"foggy\": 1.6, \"stormy\": 1.8}\n",
        "\n",
        "# Define function to determine peak hour multiplier\n",
        "def get_peak_multiplier(hour, weekday):\n",
        "    if weekday < 5:  # Weekdays\n",
        "        for start, end in PEAK_HOURS:\n",
        "            if start <= hour <= end:\n",
        "                return 1.5  # Peak hour multiplier\n",
        "    else:  # Weekends\n",
        "        for start, end in WEEKEND_PEAK_HOURS:\n",
        "            if start <= hour <= end:\n",
        "                return 1.5\n",
        "    return 1.0\n",
        "\n",
        "# Define function to determine night multiplier\n",
        "def get_night_multiplier(hour):\n",
        "    if NIGHT_HOURS[0] <= hour or hour <= NIGHT_HOURS[1]:\n",
        "        return 1.1  # Slight increase at night\n",
        "    return 1.0\n",
        "\n",
        "# Generate synthetic ride requests\n",
        "def generate_ride_request():\n",
        "    timestamp = datetime.utcnow() + timedelta(hours=random.randint(-12, 12))  # Simulate past/future requests\n",
        "    hour, weekday = timestamp.hour, timestamp.weekday()\n",
        "\n",
        "    # Assign random weather and traffic conditions\n",
        "    traffic_condition = random.choice(list(TRAFFIC_CONDITIONS.keys()))\n",
        "    weather_condition = random.choice(list(WEATHER_CONDITIONS.keys()))\n",
        "\n",
        "    # Calculate fare multiplier\n",
        "    base_fare = random.uniform(5, 20)  # Base fare between $5 and $20\n",
        "    multiplier = (\n",
        "        get_peak_multiplier(hour, weekday) *\n",
        "        get_night_multiplier(hour) *\n",
        "        TRAFFIC_CONDITIONS[traffic_condition] *\n",
        "        WEATHER_CONDITIONS[weather_condition]\n",
        "    )\n",
        "    fare = round(base_fare * multiplier, 2)\n",
        "\n",
        "    request = {\n",
        "        \"request_id\": fake.uuid4(),\n",
        "        \"user_id\": fake.uuid4(),\n",
        "        \"event_type\": random.choice([\"request\", \"cancel\"]),\n",
        "        \"timestamp\": int(timestamp.timestamp()),\n",
        "        \"pickup_latitude\": round(random.uniform(-90, 90), 6),\n",
        "        \"pickup_longitude\": round(random.uniform(-180, 180), 6),\n",
        "        \"pickup_address\": address.address(),\n",
        "        \"dropoff_latitude\": round(random.uniform(-90, 90), 6),\n",
        "        \"dropoff_longitude\": round(random.uniform(-180, 180), 6),\n",
        "        \"dropoff_address\": address.address(),\n",
        "        \"payment_method\": random.choice([\"credit_card\", \"debit_card\", \"cash\", \"mobile_payment\"]),\n",
        "        \"vehicle_type\": random.choice([\"standard\", \"premium\", \"luxury\", \"pool\"]),\n",
        "        \"num_passengers\": random.randint(1, 4),\n",
        "        \"fare_estimate\": fare,\n",
        "        \"ride_purpose\": random.choice([\"commute\", \"airport\", \"business\", \"leisure\"]),\n",
        "        \"device_type\": random.choice([\"mobile\", \"web\"])\n",
        "    }\n",
        "    return request\n",
        "\n",
        "# Generate synthetic ride status updates\n",
        "def generate_ride_status(request_id):\n",
        "    timestamp = datetime.utcnow() + timedelta(hours=random.randint(-12, 12))\n",
        "    status = random.choice([\"accepted\", \"ongoing\", \"completed\", \"cancelled\"])\n",
        "    driver_id = fake.uuid4()\n",
        "    estimated_arrival_time = int(timestamp.timestamp()) + random.randint(60, 600)  # 1-10 minutes after request\n",
        "    actual_arrival_time = estimated_arrival_time + random.randint(-120, 120) if status in [\"ongoing\", \"completed\"] else None\n",
        "    ride_duration = random.randint(5, 60) if status == \"completed\" else None\n",
        "    distance_traveled = round(random.uniform(1, 30), 2) if status == \"completed\" else None\n",
        "    fare = round(random.uniform(5, 50), 2)\n",
        "    surge_multiplier = round(random.uniform(1.0, 2.5), 2)\n",
        "    traffic_condition = random.choice(list(TRAFFIC_CONDITIONS.keys()))\n",
        "    weather_condition = random.choice(list(WEATHER_CONDITIONS.keys()))\n",
        "    driver_rating = round(random.uniform(3.0, 5.0), 1) if status == \"completed\" else None\n",
        "    cancellation_reason = random.choice([\"user_request\", \"driver_unavailable\", \"technical_issue\"]) if status == \"cancelled\" else None\n",
        "    payment_status = random.choice([\"pending\", \"completed\", \"failed\"])\n",
        "\n",
        "    ride_status = {\n",
        "        \"ride_id\": fake.uuid4(),\n",
        "        \"request_id\": request_id,\n",
        "        \"status\": status,\n",
        "        \"timestamp\": int(timestamp.timestamp()),\n",
        "        \"driver_id\": driver_id,\n",
        "        \"estimated_arrival_time\": estimated_arrival_time,\n",
        "        \"actual_arrival_time\": actual_arrival_time,\n",
        "        \"ride_duration\": ride_duration,\n",
        "        \"distance_traveled\": distance_traveled,\n",
        "        \"fare\": fare,\n",
        "        \"surge_multiplier\": surge_multiplier,\n",
        "        \"traffic_condition\": traffic_condition,\n",
        "        \"weather_condition\": weather_condition,\n",
        "        \"day_of_week\": timestamp.strftime(\"%A\"),\n",
        "        \"driver_rating\": driver_rating,\n",
        "        \"cancellation_reason\": cancellation_reason,\n",
        "        \"payment_status\": payment_status\n",
        "    }\n",
        "    return ride_status\n",
        "\n",
        "# Serialize data to AVRO\n",
        "def serialize_to_avro(data, schema, file_name):\n",
        "    with open(file_name, \"wb\") as out_file:\n",
        "        fastavro.writer(out_file, schema, data)\n",
        "\n",
        "\n",
        "# Stream data generation\n",
        "if __name__ == \"__main__\":\n",
        "    requests = [generate_ride_request() for _ in range(1000)]\n",
        "    statuses = [generate_ride_status(req[\"request_id\"]) for req in requests]\n",
        "    serialize_to_avro(requests, PASSENGER_REQUEST_SCHEMA, \"passenger_requests.avro\")\n",
        "    serialize_to_avro(statuses, RIDE_STATUS_SCHEMA, \"ride_statuses.avro\")\n",
        "    print(\"Serialized to AVRO files.\")\n"
      ],
      "metadata": {
        "colab": {
          "base_uri": "https://localhost:8080/"
        },
        "id": "ZfBzFaCp9yAE",
        "outputId": "a211ba96-e447-47d7-ec72-cff120f347e4"
      },
      "execution_count": 6,
      "outputs": [
        {
          "output_type": "stream",
          "name": "stdout",
          "text": [
            "Serialized to AVRO files.\n"
          ]
        }
      ]
    },
    {
      "cell_type": "code",
      "source": [
        "def display_first_ten_records(filename):\n",
        "    with open(filename, 'rb') as file:\n",
        "        reader = fastavro.reader(file)\n",
        "        for i in range(10):\n",
        "            try:\n",
        "                record = next(reader)\n",
        "                print(record)\n",
        "            except StopIteration:\n",
        "                print(\"File contains less than 10 records.\")\n",
        "                break"
      ],
      "metadata": {
        "id": "sx9zaxEmjTQY"
      },
      "execution_count": 7,
      "outputs": []
    },
    {
      "cell_type": "code",
      "source": [
        "display_first_ten_records('passenger_requests.avro')"
      ],
      "metadata": {
        "colab": {
          "base_uri": "https://localhost:8080/"
        },
        "id": "D6HtJA0Uj7ks",
        "outputId": "60bcd8bb-7d3d-4a46-ae36-3cd2ec4d9b14"
      },
      "execution_count": 8,
      "outputs": [
        {
          "output_type": "stream",
          "name": "stdout",
          "text": [
            "{'request_id': 'b1c7c76f-09db-433e-87f5-de18ee81e80e', 'user_id': 'bff66f5a-45e0-4bf3-bf64-a2aa7d94d562', 'event_type': 'cancel', 'timestamp': 1741377359, 'pickup_latitude': 39.006253, 'pickup_longitude': 124.503267, 'pickup_address': '601 Grant Mall', 'dropoff_latitude': 20.406103, 'dropoff_longitude': 131.085288, 'dropoff_address': '551 Plaza Bridge', 'payment_method': 'cash', 'vehicle_type': 'luxury', 'num_passengers': 4, 'fare_estimate': 19.0, 'ride_purpose': 'commute', 'device_type': 'mobile'}\n",
            "{'request_id': '74e0be89-15b2-43bf-877a-abc4a3fe1e5a', 'user_id': '69f7f016-1afb-4b12-b14b-4098656bfbc5', 'event_type': 'request', 'timestamp': 1741323359, 'pickup_latitude': -37.500585, 'pickup_longitude': 81.66645, 'pickup_address': '94 Palo Alto Bridge', 'dropoff_latitude': 37.400646, 'dropoff_longitude': 142.137955, 'dropoff_address': '814 Lettuce Plaza', 'payment_method': 'mobile_payment', 'vehicle_type': 'premium', 'num_passengers': 1, 'fare_estimate': 28.049999237060547, 'ride_purpose': 'airport', 'device_type': 'mobile'}\n",
            "{'request_id': '63cb35be-fb82-49c2-a1f9-a07916484428', 'user_id': '07a2b3e9-e9d7-4a48-86c6-272301b00904', 'event_type': 'cancel', 'timestamp': 1741319759, 'pickup_latitude': 62.524707, 'pickup_longitude': -106.508346, 'pickup_address': '672 Miller Gardens', 'dropoff_latitude': 82.906228, 'dropoff_longitude': 90.59927, 'dropoff_address': '643 Catalina Road', 'payment_method': 'cash', 'vehicle_type': 'luxury', 'num_passengers': 2, 'fare_estimate': 35.93000030517578, 'ride_purpose': 'airport', 'device_type': 'web'}\n",
            "{'request_id': 'fae8d034-3841-469a-a112-f0f7b16e41c8', 'user_id': 'fa3df4f9-d7d4-4ebe-8310-d3ccb71319fd', 'event_type': 'cancel', 'timestamp': 1741355759, 'pickup_latitude': 38.784138, 'pickup_longitude': 70.311555, 'pickup_address': '603 Chester Row', 'dropoff_latitude': 64.731974, 'dropoff_longitude': -165.737749, 'dropoff_address': '73 Pearl Shore', 'payment_method': 'cash', 'vehicle_type': 'pool', 'num_passengers': 2, 'fare_estimate': 29.829999923706055, 'ride_purpose': 'commute', 'device_type': 'mobile'}\n",
            "{'request_id': '73f2ed3c-2640-4886-867c-67ae7c39db7d', 'user_id': 'a57a86e9-a392-42c6-965d-9bb249b3bb64', 'event_type': 'request', 'timestamp': 1741319759, 'pickup_latitude': -81.026312, 'pickup_longitude': 67.229709, 'pickup_address': '281 Eastman Crossing', 'dropoff_latitude': 0.511382, 'dropoff_longitude': 136.587541, 'dropoff_address': '543 Flood Run', 'payment_method': 'mobile_payment', 'vehicle_type': 'pool', 'num_passengers': 1, 'fare_estimate': 15.729999542236328, 'ride_purpose': 'business', 'device_type': 'mobile'}\n",
            "{'request_id': '1fb9b117-301c-4b73-929a-c1b105865d83', 'user_id': 'b281b22c-6795-4d3c-a823-77a8226385ca', 'event_type': 'cancel', 'timestamp': 1741334159, 'pickup_latitude': 3.199635, 'pickup_longitude': 168.226847, 'pickup_address': '1346 Ocean Vista Rapids', 'dropoff_latitude': -23.754556, 'dropoff_longitude': -95.608745, 'dropoff_address': '845 Worden Loop', 'payment_method': 'debit_card', 'vehicle_type': 'luxury', 'num_passengers': 2, 'fare_estimate': 21.6299991607666, 'ride_purpose': 'business', 'device_type': 'mobile'}\n",
            "{'request_id': 'c7cbb8d4-75aa-495f-be80-1653eca16b13', 'user_id': '416cf3bb-9ba0-40f9-a6ab-49bf33d3de55', 'event_type': 'request', 'timestamp': 1741323359, 'pickup_latitude': 36.117621, 'pickup_longitude': -141.409272, 'pickup_address': '5 Rio Route', 'dropoff_latitude': 81.951728, 'dropoff_longitude': 74.320043, 'dropoff_address': '1247 Balmy Walk', 'payment_method': 'mobile_payment', 'vehicle_type': 'premium', 'num_passengers': 3, 'fare_estimate': 30.899999618530273, 'ride_purpose': 'commute', 'device_type': 'mobile'}\n",
            "{'request_id': 'cf0a96e7-1383-4323-a63a-c671d1b61f5c', 'user_id': 'ad4f4edc-c9fe-4d4a-bd1f-3a148e8df399', 'event_type': 'request', 'timestamp': 1741373759, 'pickup_latitude': -9.478051, 'pickup_longitude': -7.456312, 'pickup_address': '993 Megan Bayou', 'dropoff_latitude': 64.421815, 'dropoff_longitude': -44.161079, 'dropoff_address': '336 Roosevelt Green', 'payment_method': 'mobile_payment', 'vehicle_type': 'luxury', 'num_passengers': 1, 'fare_estimate': 25.100000381469727, 'ride_purpose': 'business', 'device_type': 'mobile'}\n",
            "{'request_id': '9dd1d0f2-a4e6-4a57-8d98-435424173395', 'user_id': '17730465-4863-4c17-90ba-b211edee24e4', 'event_type': 'request', 'timestamp': 1741370159, 'pickup_latitude': -2.840373, 'pickup_longitude': -58.657903, 'pickup_address': '294 St. Paul Street-Calvert Route', 'dropoff_latitude': 71.642195, 'dropoff_longitude': 1.593106, 'dropoff_address': '430 Miley Freeway', 'payment_method': 'credit_card', 'vehicle_type': 'standard', 'num_passengers': 1, 'fare_estimate': 20.799999237060547, 'ride_purpose': 'commute', 'device_type': 'mobile'}\n",
            "{'request_id': '3a713890-32a9-4a53-8d3f-88fdf3faf245', 'user_id': '8de70404-e677-4c2b-9efb-fb6c675da42f', 'event_type': 'cancel', 'timestamp': 1741352159, 'pickup_latitude': -36.976243, 'pickup_longitude': 89.70243, 'pickup_address': '60 Marina Green Rapids', 'dropoff_latitude': -6.406831, 'dropoff_longitude': 164.511732, 'dropoff_address': '466 Burke Estate', 'payment_method': 'cash', 'vehicle_type': 'pool', 'num_passengers': 2, 'fare_estimate': 33.70000076293945, 'ride_purpose': 'commute', 'device_type': 'mobile'}\n"
          ]
        }
      ]
    },
    {
      "cell_type": "code",
      "source": [
        "display_first_ten_records('ride_statuses.avro')"
      ],
      "metadata": {
        "colab": {
          "base_uri": "https://localhost:8080/"
        },
        "id": "suNgrizZj_3e",
        "outputId": "15fff754-8a72-495f-e7c0-1468d3ea59f0"
      },
      "execution_count": 9,
      "outputs": [
        {
          "output_type": "stream",
          "name": "stdout",
          "text": [
            "{'ride_id': '3c7e215c-689e-4e9a-88d5-f1aebd4d0050', 'request_id': 'b1c7c76f-09db-433e-87f5-de18ee81e80e', 'status': 'completed', 'timestamp': 1741341359, 'driver_id': 'd9a23ad8-6d37-4731-b6a8-bce8fc1ac781', 'estimated_arrival_time': 1741341625, 'actual_arrival_time': 1741341678, 'ride_duration': 10, 'distance_traveled': 23.06999969482422, 'fare': 40.970001220703125, 'surge_multiplier': 1.1100000143051147, 'traffic_condition': 'medium', 'weather_condition': 'foggy', 'day_of_week': 'Friday', 'driver_rating': 4.900000095367432, 'cancellation_reason': None, 'payment_status': 'completed'}\n",
            "{'ride_id': 'c9ae35a4-865c-4312-857a-7ed0068a786f', 'request_id': '74e0be89-15b2-43bf-877a-abc4a3fe1e5a', 'status': 'ongoing', 'timestamp': 1741384559, 'driver_id': '07379724-d0f6-4f06-ac78-ad44da8a8894', 'estimated_arrival_time': 1741384734, 'actual_arrival_time': 1741384790, 'ride_duration': None, 'distance_traveled': None, 'fare': 6.909999847412109, 'surge_multiplier': 2.3399999141693115, 'traffic_condition': 'medium', 'weather_condition': 'rainy', 'day_of_week': 'Friday', 'driver_rating': None, 'cancellation_reason': None, 'payment_status': 'failed'}\n",
            "{'ride_id': '56c7094b-3438-4841-8acf-50122d7f769b', 'request_id': '63cb35be-fb82-49c2-a1f9-a07916484428', 'status': 'cancelled', 'timestamp': 1741355759, 'driver_id': '735ba281-c867-4b09-a313-18df69cc84f7', 'estimated_arrival_time': 1741355872, 'actual_arrival_time': None, 'ride_duration': None, 'distance_traveled': None, 'fare': 23.09000015258789, 'surge_multiplier': 2.4800000190734863, 'traffic_condition': 'low', 'weather_condition': 'foggy', 'day_of_week': 'Friday', 'driver_rating': None, 'cancellation_reason': 'technical_issue', 'payment_status': 'failed'}\n",
            "{'ride_id': '013b9d83-02d8-42f0-a8bb-6db31c4a00db', 'request_id': 'fae8d034-3841-469a-a112-f0f7b16e41c8', 'status': 'ongoing', 'timestamp': 1741362959, 'driver_id': '1bfd94af-007c-4110-9e3b-45ebd9bcd715', 'estimated_arrival_time': 1741363237, 'actual_arrival_time': 1741363178, 'ride_duration': None, 'distance_traveled': None, 'fare': 31.1200008392334, 'surge_multiplier': 1.1299999952316284, 'traffic_condition': 'high', 'weather_condition': 'clear', 'day_of_week': 'Friday', 'driver_rating': None, 'cancellation_reason': None, 'payment_status': 'failed'}\n",
            "{'ride_id': 'd233358a-abba-4e1c-a1e8-5172e330d58c', 'request_id': '73f2ed3c-2640-4886-867c-67ae7c39db7d', 'status': 'completed', 'timestamp': 1741370159, 'driver_id': 'e68288e5-1ba3-4b0c-afef-247e45e33ea4', 'estimated_arrival_time': 1741370366, 'actual_arrival_time': 1741370455, 'ride_duration': 56, 'distance_traveled': 26.479999542236328, 'fare': 48.25, 'surge_multiplier': 1.4199999570846558, 'traffic_condition': 'medium', 'weather_condition': 'foggy', 'day_of_week': 'Friday', 'driver_rating': 3.299999952316284, 'cancellation_reason': None, 'payment_status': 'completed'}\n",
            "{'ride_id': '6097728b-2710-4809-ba68-ec31fd88a983', 'request_id': '1fb9b117-301c-4b73-929a-c1b105865d83', 'status': 'ongoing', 'timestamp': 1741334159, 'driver_id': 'cf446e5d-a79a-4bf9-8d85-f69a310de370', 'estimated_arrival_time': 1741334461, 'actual_arrival_time': 1741334538, 'ride_duration': None, 'distance_traveled': None, 'fare': 5.699999809265137, 'surge_multiplier': 1.909999966621399, 'traffic_condition': 'high', 'weather_condition': 'stormy', 'day_of_week': 'Friday', 'driver_rating': None, 'cancellation_reason': None, 'payment_status': 'completed'}\n",
            "{'ride_id': '411a173a-b2f1-4fbb-9a6b-0caac93e445b', 'request_id': 'c7cbb8d4-75aa-495f-be80-1653eca16b13', 'status': 'accepted', 'timestamp': 1741380959, 'driver_id': '415ecd79-b7ab-45d8-891c-44ce40347538', 'estimated_arrival_time': 1741381216, 'actual_arrival_time': None, 'ride_duration': None, 'distance_traveled': None, 'fare': 16.290000915527344, 'surge_multiplier': 2.5, 'traffic_condition': 'high', 'weather_condition': 'rainy', 'day_of_week': 'Friday', 'driver_rating': None, 'cancellation_reason': None, 'payment_status': 'failed'}\n",
            "{'ride_id': '677f7f20-02ee-449e-81b1-b2e0194d1050', 'request_id': 'cf0a96e7-1383-4323-a63a-c671d1b61f5c', 'status': 'ongoing', 'timestamp': 1741344959, 'driver_id': '3065d6e9-c9f6-4b7f-9ed5-2eb7ce234a61', 'estimated_arrival_time': 1741345203, 'actual_arrival_time': 1741345167, 'ride_duration': None, 'distance_traveled': None, 'fare': 5.139999866485596, 'surge_multiplier': 2.2899999618530273, 'traffic_condition': 'high', 'weather_condition': 'foggy', 'day_of_week': 'Friday', 'driver_rating': None, 'cancellation_reason': None, 'payment_status': 'failed'}\n",
            "{'ride_id': 'f3c28a22-aa6d-4b25-b5a7-17cc4112bfd7', 'request_id': '9dd1d0f2-a4e6-4a57-8d98-435424173395', 'status': 'ongoing', 'timestamp': 1741323359, 'driver_id': '0ba9b66c-6e18-4ffb-b6c4-7dce2e262be8', 'estimated_arrival_time': 1741323685, 'actual_arrival_time': 1741323624, 'ride_duration': None, 'distance_traveled': None, 'fare': 39.56999969482422, 'surge_multiplier': 2.430000066757202, 'traffic_condition': 'high', 'weather_condition': 'rainy', 'day_of_week': 'Friday', 'driver_rating': None, 'cancellation_reason': None, 'payment_status': 'completed'}\n",
            "{'ride_id': '86840f64-4ca7-4515-8dd4-911e94a1ed8e', 'request_id': '3a713890-32a9-4a53-8d3f-88fdf3faf245', 'status': 'accepted', 'timestamp': 1741341359, 'driver_id': '62eecd2f-d700-4a09-a892-4bd6286cbbab', 'estimated_arrival_time': 1741341696, 'actual_arrival_time': None, 'ride_duration': None, 'distance_traveled': None, 'fare': 44.54999923706055, 'surge_multiplier': 1.9600000381469727, 'traffic_condition': 'high', 'weather_condition': 'snowy', 'day_of_week': 'Friday', 'driver_rating': None, 'cancellation_reason': None, 'payment_status': 'failed'}\n"
          ]
        }
      ]
    }
  ]
}