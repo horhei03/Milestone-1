{
  "nbformat": 4,
  "nbformat_minor": 0,
  "metadata": {
    "colab": {
      "provenance": []
    },
    "kernelspec": {
      "name": "python3",
      "display_name": "Python 3"
    },
    "language_info": {
      "name": "python"
    }
  },
  "cells": [
    {
      "cell_type": "markdown",
      "source": [
        "#Milestone 1"
      ],
      "metadata": {
        "id": "bUMKeYByn6G_"
      }
    },
    {
      "cell_type": "markdown",
      "source": [
        "**Group 10:** Nicolas Cubillo, Pablo Gomez, Sebastian Llobet, Pablo Jaime Rivera, Jorge Rodriguez"
      ],
      "metadata": {
        "id": "hmUhE78DCgSn"
      }
    },
    {
      "cell_type": "markdown",
      "source": [
        "## Data Feeds + Schemas"
      ],
      "metadata": {
        "id": "OZ-sUy5On-v-"
      }
    },
    {
      "cell_type": "markdown",
      "source": [
        "### Feed 1: Passenger Requests"
      ],
      "metadata": {
        "id": "EjSB4L5WoBtm"
      }
    },
    {
      "cell_type": "markdown",
      "source": [
        "Includes ride requests and cancellations"
      ],
      "metadata": {
        "id": "sgB2LtOPoSgZ"
      }
    },
    {
      "cell_type": "code",
      "source": [
        "PASSENGER_REQUEST_SCHEMA = {\n",
        "  \"type\": \"record\",\n",
        "  \"name\": \"PassengerRequest\",\n",
        "  \"fields\": [\n",
        "    {\n",
        "      \"name\": \"request_id\",\n",
        "      \"type\": \"string\",\n",
        "      \"doc\": \"Unique identifier for the passenger request.\"\n",
        "    },\n",
        "    {\n",
        "      \"name\": \"user_id\",\n",
        "      \"type\": \"string\",\n",
        "      \"doc\": \"Unique identifier for the user making the request.\"\n",
        "    },\n",
        "    {\n",
        "      \"name\": \"event_type\",\n",
        "      \"type\": {\n",
        "        \"type\": \"enum\",\n",
        "        \"name\": \"EventType\",\n",
        "        \"symbols\": [\"request\", \"cancel\"]\n",
        "      },\n",
        "      \"doc\": \"Type of event, either a ride request or a cancellation.\"\n",
        "    },\n",
        "    {\n",
        "      \"name\": \"timestamp\",\n",
        "      \"type\": \"long\",\n",
        "      \"doc\": \"Epoch timestamp indicating when the request was made.\"\n",
        "    },\n",
        "    {\n",
        "      \"name\": \"pickup_latitude\",\n",
        "      \"type\": \"double\",\n",
        "      \"doc\": \"Latitude coordinate of the pickup location.\"\n",
        "    },\n",
        "    {\n",
        "      \"name\": \"pickup_longitude\",\n",
        "      \"type\": \"double\",\n",
        "      \"doc\": \"Longitude coordinate of the pickup location.\"\n",
        "    },\n",
        "    {\n",
        "      \"name\": \"pickup_address\",\n",
        "      \"type\": \"string\",\n",
        "      \"doc\": \"Readable address of the pickup location.\"\n",
        "    },\n",
        "    {\n",
        "      \"name\": \"dropoff_latitude\",\n",
        "      \"type\": \"double\",\n",
        "      \"doc\": \"Latitude coordinate of the dropoff location.\"\n",
        "    },\n",
        "    {\n",
        "      \"name\": \"dropoff_longitude\",\n",
        "      \"type\": \"double\",\n",
        "      \"doc\": \"Longitude coordinate of the dropoff location.\"\n",
        "    },\n",
        "    {\n",
        "      \"name\": \"dropoff_address\",\n",
        "      \"type\": \"string\",\n",
        "      \"doc\": \"Readable address of the dropoff location.\"\n",
        "    },\n",
        "    {\n",
        "      \"name\": \"payment_method\",\n",
        "      \"type\": {\n",
        "        \"type\": \"enum\",\n",
        "        \"name\": \"PaymentMethod\",\n",
        "        \"symbols\": [\"credit_card\", \"debit_card\", \"cash\", \"mobile_payment\"]\n",
        "      },\n",
        "      \"doc\": \"Payment method chosen by the user.\"\n",
        "    },\n",
        "    {\n",
        "      \"name\": \"vehicle_type\",\n",
        "      \"type\": {\n",
        "        \"type\": \"enum\",\n",
        "        \"name\": \"VehicleType\",\n",
        "        \"symbols\": [\"standard\", \"premium\", \"luxury\", \"pool\"]\n",
        "      },\n",
        "      \"doc\": \"Type of vehicle requested for the ride.\"\n",
        "    },\n",
        "    {\n",
        "      \"name\": \"num_passengers\",\n",
        "      \"type\": \"int\",\n",
        "      \"doc\": \"Number of passengers included in the ride request.\"\n",
        "    },\n",
        "    {\n",
        "      \"name\": \"fare_estimate\",\n",
        "      \"type\": \"float\",\n",
        "      \"doc\": \"Estimated fare for the requested ride.\"\n",
        "    },\n",
        "    {\n",
        "      \"name\": \"ride_purpose\",\n",
        "      \"type\": {\n",
        "        \"type\": \"enum\",\n",
        "        \"name\": \"RidePurpose\",\n",
        "        \"symbols\": [\"commute\", \"airport\", \"business\", \"leisure\"]\n",
        "      },\n",
        "      \"doc\": \"Purpose of the ride request.\"\n",
        "    },\n",
        "    {\n",
        "      \"name\": \"device_type\",\n",
        "      \"type\": {\n",
        "        \"type\": \"enum\",\n",
        "        \"name\": \"DeviceType\",\n",
        "        \"symbols\": [\"mobile\", \"web\"]\n",
        "      },\n",
        "      \"doc\": \"Type of device used to make the ride request.\"\n",
        "    }\n",
        "  ]\n",
        "}\n",
        "\n"
      ],
      "metadata": {
        "id": "JoT3jW1Yn-Td"
      },
      "execution_count": null,
      "outputs": []
    },
    {
      "cell_type": "markdown",
      "source": [
        "As you can see above, we've created an Apache Avro schema named PASSENGER_REQUEST_SCHEMA, this schema describes the structure of a passenger ride request, with the expected fields, their types and descriptions. The schema type is \"record\" meaning it represents an encapsulation of attributes that, all combined, describe a single thing. We can find fields like request_id, user_id, event_type... That helps represent it in the most accurate way possible. Each one of this fields has a type, primitive or complex, lets take a look at each one of them used on this schema:\n",
        "- string: A Unicode character sequence\n",
        "- enum: Enumerated types which support attributes\n",
        "- long: A 64-bit signed integer\n",
        "- double: A double precision (64-bit) IEEE 754 floating-point number\n",
        "- int: A 32-bit signed integer\n",
        "- float: A single precision (32-bit) IEEE 754 floating-point number"
      ],
      "metadata": {
        "id": "JYtsUGXQtXtR"
      }
    },
    {
      "cell_type": "markdown",
      "source": [
        "### Feed 2: Ride Status"
      ],
      "metadata": {
        "id": "znXaJ7mbobcU"
      }
    },
    {
      "cell_type": "markdown",
      "source": [
        "Tracks Accepted, Ongoing, Completed, Cancelled"
      ],
      "metadata": {
        "id": "VMC6bzVtofNw"
      }
    },
    {
      "cell_type": "code",
      "source": [
        "RIDE_STATUS_SCHEMA = {\n",
        "  \"type\": \"record\",\n",
        "  \"name\": \"RideStatus\",\n",
        "  \"fields\": [\n",
        "    {\n",
        "      \"name\": \"ride_id\",\n",
        "      \"type\": \"string\",\n",
        "      \"doc\": \"Unique identifier for the ride.\"\n",
        "    },\n",
        "    {\n",
        "      \"name\": \"request_id\",\n",
        "      \"type\": \"string\",\n",
        "      \"doc\": \"Identifier linking this ride status to the original ride request.\"\n",
        "    },\n",
        "    {\n",
        "      \"name\": \"status\",\n",
        "      \"type\": {\n",
        "        \"type\": \"enum\",\n",
        "        \"name\": \"RideStatusEnum\",\n",
        "        \"symbols\": [\"accepted\", \"ongoing\", \"completed\", \"cancelled\"]\n",
        "      },\n",
        "      \"doc\": \"Current status of the ride.\"\n",
        "    },\n",
        "    {\n",
        "      \"name\": \"timestamp\",\n",
        "      \"type\": \"long\",\n",
        "      \"doc\": \"Epoch timestamp indicating when the status was recorded.\"\n",
        "    },\n",
        "    {\n",
        "      \"name\": \"driver_id\",\n",
        "      \"type\": \"string\",\n",
        "      \"doc\": \"Unique identifier for the driver assigned to the ride.\"\n",
        "    },\n",
        "    {\n",
        "      \"name\": \"estimated_arrival_time\",\n",
        "      \"type\": \"long\",\n",
        "      \"doc\": \"Estimated epoch timestamp of when the driver is expected to arrive at the pickup location.\"\n",
        "    },\n",
        "    {\n",
        "      \"name\": \"actual_arrival_time\",\n",
        "      \"type\": [\"null\", \"long\"],\n",
        "      \"default\": None,\n",
        "      \"doc\": \"Actual epoch timestamp when the driver arrived at the pickup location. Null if not yet arrived.\"\n",
        "    },\n",
        "    {\n",
        "      \"name\": \"ride_duration\",\n",
        "      \"type\": [\"null\", \"int\"],\n",
        "      \"default\": None,\n",
        "      \"doc\": \"Duration of the ride in minutes. Null if ride is not completed.\"\n",
        "    },\n",
        "    {\n",
        "      \"name\": \"distance_traveled\",\n",
        "      \"type\": [\"null\", \"float\"],\n",
        "      \"default\": None,\n",
        "      \"doc\": \"Total distance traveled during the ride in kilometers. Null if ride is not completed.\"\n",
        "    },\n",
        "    {\n",
        "      \"name\": \"fare\",\n",
        "      \"type\": \"float\",\n",
        "      \"doc\": \"Final fare amount for the ride.\"\n",
        "    },\n",
        "    {\n",
        "      \"name\": \"surge_multiplier\",\n",
        "      \"type\": \"float\",\n",
        "      \"doc\": \"Surge pricing multiplier applied to the fare.\"\n",
        "    },\n",
        "    {\n",
        "      \"name\": \"traffic_condition\",\n",
        "      \"type\": {\n",
        "        \"type\": \"enum\",\n",
        "        \"name\": \"TrafficCondition\",\n",
        "        \"symbols\": [\"low\", \"medium\", \"high\"]\n",
        "      },\n",
        "      \"doc\": \"Traffic conditions during the ride.\"\n",
        "    },\n",
        "    {\n",
        "      \"name\": \"weather_condition\",\n",
        "      \"type\": {\n",
        "        \"type\": \"enum\",\n",
        "        \"name\": \"WeatherCondition\",\n",
        "        \"symbols\": [\"clear\", \"rainy\", \"snowy\", \"foggy\", \"stormy\"]\n",
        "      },\n",
        "      \"doc\": \"Weather conditions at the time of the ride.\"\n",
        "    },\n",
        "    {\n",
        "      \"name\": \"day_of_week\",\n",
        "      \"type\": {\n",
        "        \"type\": \"enum\",\n",
        "        \"name\": \"DayOfWeek\",\n",
        "        \"symbols\": [\"Monday\", \"Tuesday\", \"Wednesday\", \"Thursday\", \"Friday\", \"Saturday\", \"Sunday\"]\n",
        "      },\n",
        "      \"doc\": \"Day of the week when the ride took place.\"\n",
        "    },\n",
        "    {\n",
        "      \"name\": \"driver_rating\",\n",
        "      \"type\": [\"null\", \"float\"],\n",
        "      \"default\": None,\n",
        "      \"doc\": \"Driver's rating for the ride (scale 1-5). Null if ride not completed.\"\n",
        "    },\n",
        "    {\n",
        "      \"name\": \"cancellation_reason\",\n",
        "      \"type\": [\"null\", {\n",
        "        \"type\": \"enum\",\n",
        "        \"name\": \"CancellationReason\",\n",
        "        \"symbols\": [\"user_request\", \"driver_unavailable\", \"technical_issue\"]\n",
        "      }],\n",
        "      \"default\": None,\n",
        "      \"doc\": \"Reason for ride cancellation, if applicable. Null if not cancelled.\"\n",
        "    },\n",
        "    {\n",
        "      \"name\": \"payment_status\",\n",
        "      \"type\": {\n",
        "        \"type\": \"enum\",\n",
        "        \"name\": \"PaymentStatus\",\n",
        "        \"symbols\": [\"pending\", \"completed\", \"failed\"]\n",
        "      },\n",
        "      \"doc\": \"Current status of the ride payment.\"\n",
        "    }\n",
        "  ]\n",
        "}\n"
      ],
      "metadata": {
        "id": "2_gz9YYaoZb7"
      },
      "execution_count": null,
      "outputs": []
    },
    {
      "cell_type": "markdown",
      "source": [
        "Next, we've created an Apache Avro schema named RIDE_STATUS_SCHEMA,but this time, this schema is used to track and update the status of a ride, with the expected fields, their types and descriptions. The schema type is \"record\" once more. We can find fields like ride_id, request_id, status... That helps represent it in the most accurate way possible. Each one of this fields has a type, primitive or complex, lets take a look at each one of them used on this schema:\n",
        "- string: A Unicode character sequence\n",
        "- enum: Enumerated types which support attributes\n",
        "- long: A 64-bit signed integer\n",
        "- null: no value\n",
        "- float: A single precision (32-bit) IEEE 754 floating-point number"
      ],
      "metadata": {
        "id": "CEHe8NY6xpUg"
      }
    },
    {
      "cell_type": "markdown",
      "source": [
        "## Script Features"
      ],
      "metadata": {
        "id": "0NGYEqHNo8Ux"
      }
    },
    {
      "cell_type": "markdown",
      "source": [
        "### Realism & Variety"
      ],
      "metadata": {
        "id": "GZmNf4n1pAYK"
      }
    },
    {
      "cell_type": "markdown",
      "source": [
        "Include peak hours (more demand):\n",
        "1. 7-10:30 AM, 4-8 PM for weekdays (people going to work or leaving)\n",
        "2. After midnight for weekends\n",
        "\n",
        "Price Surges:\n",
        "1. During peak hours\n",
        "- Traffic\n",
        "2. Weather\n",
        "3. Nightime"
      ],
      "metadata": {
        "id": "s19r7xBepEvE"
      }
    },
    {
      "cell_type": "markdown",
      "source": [
        "### Scalability"
      ],
      "metadata": {
        "id": "48ovKI_GpFVt"
      }
    },
    {
      "cell_type": "markdown",
      "source": [],
      "metadata": {
        "id": "VdUufSDbpIVg"
      }
    },
    {
      "cell_type": "markdown",
      "source": [
        "### Configurability"
      ],
      "metadata": {
        "id": "zHMJF-8ZpJad"
      }
    },
    {
      "cell_type": "markdown",
      "source": [
        "1. active_drivers --> Simulate driver availability\n",
        "2. demand_level --> High/low demand periods\n",
        "3. output_dir --> Directory for JSON/AVRO files"
      ],
      "metadata": {
        "id": "GbADLZLdpOoQ"
      }
    },
    {
      "cell_type": "markdown",
      "source": [
        "## Data Generation"
      ],
      "metadata": {
        "id": "ddTdxD4MpSiu"
      }
    },
    {
      "cell_type": "code",
      "source": [
        "!pip install Faker"
      ],
      "metadata": {
        "colab": {
          "base_uri": "https://localhost:8080/"
        },
        "collapsed": true,
        "id": "LyzeTVE7h5ef",
        "outputId": "eecc1755-9bf2-45e2-9871-341cfd938f75"
      },
      "execution_count": null,
      "outputs": [
        {
          "output_type": "stream",
          "name": "stdout",
          "text": [
            "Collecting Faker\n",
            "  Downloading faker-37.0.0-py3-none-any.whl.metadata (15 kB)\n",
            "Requirement already satisfied: tzdata in /usr/local/lib/python3.11/dist-packages (from Faker) (2025.1)\n",
            "Downloading faker-37.0.0-py3-none-any.whl (1.9 MB)\n",
            "\u001b[?25l   \u001b[90m━━━━━━━━━━━━━━━━━━━━━━━━━━━━━━━━━━━━━━━━\u001b[0m \u001b[32m0.0/1.9 MB\u001b[0m \u001b[31m?\u001b[0m eta \u001b[36m-:--:--\u001b[0m\r\u001b[2K   \u001b[91m━━━━━━━━━━━━━━━━━━\u001b[0m\u001b[91m╸\u001b[0m\u001b[90m━━━━━━━━━━━━━━━━━━━━━\u001b[0m \u001b[32m0.9/1.9 MB\u001b[0m \u001b[31m26.8 MB/s\u001b[0m eta \u001b[36m0:00:01\u001b[0m\r\u001b[2K   \u001b[91m━━━━━━━━━━━━━━━━━━━━━━━━━━━━━━━━━━━━━━━\u001b[0m\u001b[91m╸\u001b[0m \u001b[32m1.9/1.9 MB\u001b[0m \u001b[31m45.0 MB/s\u001b[0m eta \u001b[36m0:00:01\u001b[0m\r\u001b[2K   \u001b[90m━━━━━━━━━━━━━━━━━━━━━━━━━━━━━━━━━━━━━━━━\u001b[0m \u001b[32m1.9/1.9 MB\u001b[0m \u001b[31m25.9 MB/s\u001b[0m eta \u001b[36m0:00:00\u001b[0m\n",
            "\u001b[?25hInstalling collected packages: Faker\n",
            "Successfully installed Faker-37.0.0\n"
          ]
        }
      ]
    },
    {
      "cell_type": "code",
      "source": [
        "!pip install mimesis"
      ],
      "metadata": {
        "colab": {
          "base_uri": "https://localhost:8080/"
        },
        "collapsed": true,
        "id": "thMPg6htiCxK",
        "outputId": "13bfee65-34aa-4675-b3e2-a951a0a0fb3a"
      },
      "execution_count": null,
      "outputs": [
        {
          "output_type": "stream",
          "name": "stdout",
          "text": [
            "Collecting mimesis\n",
            "  Downloading mimesis-18.0.0-py3-none-any.whl.metadata (5.7 kB)\n",
            "Downloading mimesis-18.0.0-py3-none-any.whl (4.7 MB)\n",
            "\u001b[2K   \u001b[90m━━━━━━━━━━━━━━━━━━━━━━━━━━━━━━━━━━━━━━━━\u001b[0m \u001b[32m4.7/4.7 MB\u001b[0m \u001b[31m16.3 MB/s\u001b[0m eta \u001b[36m0:00:00\u001b[0m\n",
            "\u001b[?25hInstalling collected packages: mimesis\n",
            "Successfully installed mimesis-18.0.0\n"
          ]
        }
      ]
    },
    {
      "cell_type": "code",
      "source": [
        "!pip install fastavro"
      ],
      "metadata": {
        "colab": {
          "base_uri": "https://localhost:8080/"
        },
        "collapsed": true,
        "id": "F-zu_6UBiL0C",
        "outputId": "b4038c66-774a-4537-9c32-8c3895c5181b"
      },
      "execution_count": null,
      "outputs": [
        {
          "output_type": "stream",
          "name": "stdout",
          "text": [
            "Collecting fastavro\n",
            "  Downloading fastavro-1.10.0-cp311-cp311-manylinux_2_17_x86_64.manylinux2014_x86_64.whl.metadata (5.5 kB)\n",
            "Downloading fastavro-1.10.0-cp311-cp311-manylinux_2_17_x86_64.manylinux2014_x86_64.whl (3.3 MB)\n",
            "\u001b[2K   \u001b[90m━━━━━━━━━━━━━━━━━━━━━━━━━━━━━━━━━━━━━━━━\u001b[0m \u001b[32m3.3/3.3 MB\u001b[0m \u001b[31m35.5 MB/s\u001b[0m eta \u001b[36m0:00:00\u001b[0m\n",
            "\u001b[?25hInstalling collected packages: fastavro\n",
            "Successfully installed fastavro-1.10.0\n"
          ]
        }
      ]
    },
    {
      "cell_type": "code",
      "source": [
        "import random\n",
        "import time\n",
        "import json\n",
        "from datetime import datetime, timedelta\n",
        "import numpy as np\n",
        "import pandas as pd\n",
        "from faker import Faker\n",
        "from mimesis import Person, Address\n",
        "from mimesis.locales import Locale\n",
        "import fastavro\n",
        "\n",
        "# Initialize Faker and Mimesis\n",
        "fake = Faker()\n",
        "person = Person(locale=Locale.EN)\n",
        "address = Address(locale=Locale.EN)\n",
        "\n",
        "# Define peak hours (higher ride requests)\n",
        "PEAK_HOURS = [(7, 10.5), (16, 20)]  # Weekday rush hours\n",
        "WEEKEND_PEAK_HOURS = [(12, 23)]  # Weekend peak hours\n",
        "NIGHT_HOURS = (22, 5)  # Nighttime range\n",
        "\n",
        "# Traffic and weather impact factors\n",
        "TRAFFIC_CONDITIONS = {\"low\": 1.0, \"medium\": 1.2, \"high\": 1.5}\n",
        "WEATHER_CONDITIONS = {\"clear\": 1.0, \"rainy\": 1.3, \"snowy\": 1.5, \"foggy\": 1.6, \"stormy\": 1.8}\n",
        "\n",
        "# Define function to determine peak hour multiplier\n",
        "def get_peak_multiplier(hour, weekday):\n",
        "    if weekday < 5:  # Weekdays\n",
        "        for start, end in PEAK_HOURS:\n",
        "            if start <= hour <= end:\n",
        "                return 1.5  # Peak hour multiplier\n",
        "    else:  # Weekends\n",
        "        for start, end in WEEKEND_PEAK_HOURS:\n",
        "            if start <= hour <= end:\n",
        "                return 1.5\n",
        "    return 1.0\n",
        "\n",
        "# Define function to determine night multiplier\n",
        "def get_night_multiplier(hour):\n",
        "    if NIGHT_HOURS[0] <= hour or hour <= NIGHT_HOURS[1]:\n",
        "        return 1.1  # Slight increase at night\n",
        "    return 1.0\n",
        "\n",
        "# Generate synthetic ride requests\n",
        "def generate_ride_request():\n",
        "    timestamp = datetime.utcnow() + timedelta(hours=random.randint(-12, 12))  # Simulate past/future requests\n",
        "    hour, weekday = timestamp.hour, timestamp.weekday()\n",
        "\n",
        "    # Assign random weather and traffic conditions\n",
        "    traffic_condition = random.choice(list(TRAFFIC_CONDITIONS.keys()))\n",
        "    weather_condition = random.choice(list(WEATHER_CONDITIONS.keys()))\n",
        "\n",
        "    # Calculate fare multiplier\n",
        "    base_fare = random.uniform(5, 20)  # Base fare between $5 and $20\n",
        "    multiplier = (\n",
        "        get_peak_multiplier(hour, weekday) *\n",
        "        get_night_multiplier(hour) *\n",
        "        TRAFFIC_CONDITIONS[traffic_condition] *\n",
        "        WEATHER_CONDITIONS[weather_condition]\n",
        "    )\n",
        "    fare = round(base_fare * multiplier, 2)\n",
        "\n",
        "    request = {\n",
        "        \"request_id\": fake.uuid4(),\n",
        "        \"user_id\": fake.uuid4(),\n",
        "        \"event_type\": random.choice([\"request\", \"cancel\"]),\n",
        "        \"timestamp\": int(timestamp.timestamp()),\n",
        "        \"pickup_latitude\": round(random.uniform(-90, 90), 6),\n",
        "        \"pickup_longitude\": round(random.uniform(-180, 180), 6),\n",
        "        \"pickup_address\": address.address(),\n",
        "        \"dropoff_latitude\": round(random.uniform(-90, 90), 6),\n",
        "        \"dropoff_longitude\": round(random.uniform(-180, 180), 6),\n",
        "        \"dropoff_address\": address.address(),\n",
        "        \"payment_method\": random.choice([\"credit_card\", \"debit_card\", \"cash\", \"mobile_payment\"]),\n",
        "        \"vehicle_type\": random.choice([\"standard\", \"premium\", \"luxury\", \"pool\"]),\n",
        "        \"num_passengers\": random.randint(1, 4),\n",
        "        \"fare_estimate\": fare,\n",
        "        \"ride_purpose\": random.choice([\"commute\", \"airport\", \"business\", \"leisure\"]),\n",
        "        \"device_type\": random.choice([\"mobile\", \"web\"])\n",
        "    }\n",
        "    return request\n",
        "\n",
        "# Generate synthetic ride status updates\n",
        "def generate_ride_status(request_id):\n",
        "    timestamp = datetime.utcnow() + timedelta(hours=random.randint(-12, 12))\n",
        "    status = random.choice([\"accepted\", \"ongoing\", \"completed\", \"cancelled\"])\n",
        "    driver_id = fake.uuid4()\n",
        "    estimated_arrival_time = int(timestamp.timestamp()) + random.randint(60, 600)  # 1-10 minutes after request\n",
        "    actual_arrival_time = estimated_arrival_time + random.randint(-120, 120) if status in [\"ongoing\", \"completed\"] else None\n",
        "    ride_duration = random.randint(5, 60) if status == \"completed\" else None\n",
        "    distance_traveled = round(random.uniform(1, 30), 2) if status == \"completed\" else None\n",
        "    fare = round(random.uniform(5, 50), 2)\n",
        "    surge_multiplier = round(random.uniform(1.0, 2.5), 2)\n",
        "    traffic_condition = random.choice(list(TRAFFIC_CONDITIONS.keys()))\n",
        "    weather_condition = random.choice(list(WEATHER_CONDITIONS.keys()))\n",
        "    driver_rating = round(random.uniform(3.0, 5.0), 1) if status == \"completed\" else None\n",
        "    cancellation_reason = random.choice([\"user_request\", \"driver_unavailable\", \"technical_issue\"]) if status == \"cancelled\" else None\n",
        "    payment_status = random.choice([\"pending\", \"completed\", \"failed\"])\n",
        "\n",
        "    ride_status = {\n",
        "        \"ride_id\": fake.uuid4(),\n",
        "        \"request_id\": request_id,\n",
        "        \"status\": status,\n",
        "        \"timestamp\": int(timestamp.timestamp()),\n",
        "        \"driver_id\": driver_id,\n",
        "        \"estimated_arrival_time\": estimated_arrival_time,\n",
        "        \"actual_arrival_time\": actual_arrival_time,\n",
        "        \"ride_duration\": ride_duration,\n",
        "        \"distance_traveled\": distance_traveled,\n",
        "        \"fare\": fare,\n",
        "        \"surge_multiplier\": surge_multiplier,\n",
        "        \"traffic_condition\": traffic_condition,\n",
        "        \"weather_condition\": weather_condition,\n",
        "        \"day_of_week\": timestamp.strftime(\"%A\"),\n",
        "        \"driver_rating\": driver_rating,\n",
        "        \"cancellation_reason\": cancellation_reason,\n",
        "        \"payment_status\": payment_status\n",
        "    }\n",
        "    return ride_status\n",
        "\n",
        "# Serialize data to AVRO\n",
        "def serialize_to_avro(data, schema, file_name):\n",
        "    with open(file_name, \"wb\") as out_file:\n",
        "        fastavro.writer(out_file, schema, data)\n",
        "\n",
        "\n",
        "# Stream data generation\n",
        "if __name__ == \"__main__\":\n",
        "    requests = [generate_ride_request() for _ in range(1000)]\n",
        "    statuses = [generate_ride_status(req[\"request_id\"]) for req in requests]\n",
        "    serialize_to_avro(requests, PASSENGER_REQUEST_SCHEMA, \"passenger_requests.avro\")\n",
        "    serialize_to_avro(statuses, RIDE_STATUS_SCHEMA, \"ride_statuses.avro\")\n",
        "    print(\"Serialized to AVRO files.\")\n"
      ],
      "metadata": {
        "colab": {
          "base_uri": "https://localhost:8080/"
        },
        "id": "ZfBzFaCp9yAE",
        "outputId": "39684966-c9cb-47e5-9590-e17528f894a0"
      },
      "execution_count": null,
      "outputs": [
        {
          "output_type": "stream",
          "name": "stdout",
          "text": [
            "Serialized to AVRO files.\n"
          ]
        }
      ]
    },
    {
      "cell_type": "markdown",
      "source": [
        "This code creates fake ride-hailing data by replicating both ride requests and ride status updates.  In addition to using traffic, weather, peak hour, and nighttime multipliers to dynamically modify anticipated fares, it makes use of libraries such as Faker and Mimesis to generate realistic user and location data.\n",
        "\n",
        "In order to assign distinct user IDs, pickup and drop-off locations, payment methods, vehicle kinds, and estimated fares, the script first creates ride requests. After that, it generates ride status updates that include information such as driver ID, arrival times, trip duration, distance traveled, and payment status, as well as the progress of each ride from acceptance to completion or cancelation. Fastavro is used to serialize the generated data into AVRO files (passenger_requests.avro and ride_statuses.avro) for processing and storage efficiency."
      ],
      "metadata": {
        "id": "GBFt3kSM0jIt"
      }
    },
    {
      "cell_type": "code",
      "source": [
        "def display_first_ten_records(filename):\n",
        "    with open(filename, 'rb') as file:\n",
        "        reader = fastavro.reader(file)\n",
        "        for i in range(10):\n",
        "            try:\n",
        "                record = next(reader)\n",
        "                print(record)\n",
        "            except StopIteration:\n",
        "                print(\"File contains less than 10 records.\")\n",
        "                break"
      ],
      "metadata": {
        "id": "sx9zaxEmjTQY"
      },
      "execution_count": null,
      "outputs": []
    },
    {
      "cell_type": "markdown",
      "source": [
        "This function, display_first_ten_records(filename), reads the AVRO files created above and prints the first 10 records stored in them. It opens them in binary mode, then uses fastavro.reader() to decode the AVRO data. The function iterates through the reader, retrieving and printing one record at a time. If the file contains fewer than 10 records, it prints an appropriate message and stops early."
      ],
      "metadata": {
        "id": "L_dztTSI1plC"
      }
    },
    {
      "cell_type": "code",
      "source": [
        "display_first_ten_records('passenger_requests.avro')"
      ],
      "metadata": {
        "colab": {
          "base_uri": "https://localhost:8080/"
        },
        "id": "D6HtJA0Uj7ks",
        "outputId": "ccaa9d27-1cdd-45ad-8e0f-52fdc8c8538f"
      },
      "execution_count": null,
      "outputs": [
        {
          "output_type": "stream",
          "name": "stdout",
          "text": [
            "{'request_id': '0f401c87-d4c8-4da7-9809-bb0ccf128a5f', 'user_id': '219b4aac-5aad-420e-b931-adfa24661b80', 'event_type': 'request', 'timestamp': 1741986640, 'pickup_latitude': 85.614704, 'pickup_longitude': 6.479576, 'pickup_address': '685 Merrie Highway', 'dropoff_latitude': -77.703079, 'dropoff_longitude': -127.585316, 'dropoff_address': '558 Alameda Path', 'payment_method': 'debit_card', 'vehicle_type': 'luxury', 'num_passengers': 4, 'fare_estimate': 9.15999984741211, 'ride_purpose': 'business', 'device_type': 'web'}\n",
            "{'request_id': '5c109323-3174-4491-acd9-bbb8112aac99', 'user_id': '56be965e-bfb5-4d01-a428-b9a9cfc3cbc2', 'event_type': 'request', 'timestamp': 1741965040, 'pickup_latitude': -27.120128, 'pickup_longitude': 24.014531, 'pickup_address': '130 Nibbi Square', 'dropoff_latitude': 23.038034, 'dropoff_longitude': 111.415887, 'dropoff_address': '536 King Road', 'payment_method': 'mobile_payment', 'vehicle_type': 'premium', 'num_passengers': 1, 'fare_estimate': 21.90999984741211, 'ride_purpose': 'airport', 'device_type': 'web'}\n",
            "{'request_id': '5752d0f5-3095-4371-bd3c-0a07dbba6318', 'user_id': '694927ea-0bff-4dfb-9e78-7478c91ae10e', 'event_type': 'request', 'timestamp': 1741911040, 'pickup_latitude': -51.678684, 'pickup_longitude': -177.243604, 'pickup_address': '827 Cambon Point', 'dropoff_latitude': 61.185041, 'dropoff_longitude': 133.588284, 'dropoff_address': '639 Macedonia Extension', 'payment_method': 'credit_card', 'vehicle_type': 'pool', 'num_passengers': 4, 'fare_estimate': 18.229999542236328, 'ride_purpose': 'airport', 'device_type': 'web'}\n",
            "{'request_id': 'f87fc125-668c-4b37-9e99-a68888b24a07', 'user_id': '30dfd359-501c-4550-84b2-7477996f821b', 'event_type': 'request', 'timestamp': 1741925440, 'pickup_latitude': -17.284181, 'pickup_longitude': -45.614802, 'pickup_address': '117 Gould Road', 'dropoff_latitude': -72.638702, 'dropoff_longitude': 84.730942, 'dropoff_address': '509 Hawes Stravenue', 'payment_method': 'debit_card', 'vehicle_type': 'premium', 'num_passengers': 2, 'fare_estimate': 11.210000038146973, 'ride_purpose': 'leisure', 'device_type': 'web'}\n",
            "{'request_id': '2a9422f0-73b0-484c-b4ef-7ceb95de3282', 'user_id': '3f40a921-c3fc-4c53-ae9a-2a0d28414b27', 'event_type': 'request', 'timestamp': 1741907440, 'pickup_latitude': 69.534623, 'pickup_longitude': -110.863528, 'pickup_address': '1388 South Van Horn Circle', 'dropoff_latitude': 83.840758, 'dropoff_longitude': 92.899377, 'dropoff_address': '301 Maple Drive', 'payment_method': 'debit_card', 'vehicle_type': 'standard', 'num_passengers': 1, 'fare_estimate': 16.3700008392334, 'ride_purpose': 'business', 'device_type': 'web'}\n",
            "{'request_id': '510ca6eb-f01d-428d-a175-90c32e742e1f', 'user_id': 'da738e2c-5add-4885-a4ad-e3a6d11f4f16', 'event_type': 'cancel', 'timestamp': 1741939840, 'pickup_latitude': 14.704162, 'pickup_longitude': -77.637967, 'pickup_address': '744 Pagoda Crescent', 'dropoff_latitude': 4.098381, 'dropoff_longitude': 114.826282, 'dropoff_address': '31 Avenue F Rapids', 'payment_method': 'debit_card', 'vehicle_type': 'luxury', 'num_passengers': 3, 'fare_estimate': 32.529998779296875, 'ride_purpose': 'commute', 'device_type': 'web'}\n",
            "{'request_id': 'bbe1e872-ef61-476a-a8e4-8bdc5dc8d0c2', 'user_id': 'ba661aa7-fbc8-4c44-b2ff-f6c54e20be32', 'event_type': 'request', 'timestamp': 1741986640, 'pickup_latitude': -81.036199, 'pickup_longitude': 36.668215, 'pickup_address': '1218 Goettingen Heights', 'dropoff_latitude': 18.16578, 'dropoff_longitude': 159.356409, 'dropoff_address': '903 Martinez Loop', 'payment_method': 'mobile_payment', 'vehicle_type': 'premium', 'num_passengers': 3, 'fare_estimate': 9.520000457763672, 'ride_purpose': 'leisure', 'device_type': 'mobile'}\n",
            "{'request_id': '81437828-6d20-4e8b-ba81-dcef77e43cef', 'user_id': '948197b9-97de-4c41-8e33-1044dc996894', 'event_type': 'request', 'timestamp': 1741943440, 'pickup_latitude': -0.631686, 'pickup_longitude': 26.421516, 'pickup_address': '831 Mckinnon Highway', 'dropoff_latitude': 69.558567, 'dropoff_longitude': -173.216041, 'dropoff_address': '960 Fargo Parkway', 'payment_method': 'debit_card', 'vehicle_type': 'luxury', 'num_passengers': 4, 'fare_estimate': 56.31999969482422, 'ride_purpose': 'business', 'device_type': 'web'}\n",
            "{'request_id': '6657c43e-c099-4f89-8073-231a8b422229', 'user_id': 'f204b389-ecaf-456c-9375-6ff2208d2356', 'event_type': 'request', 'timestamp': 1741925440, 'pickup_latitude': 43.826762, 'pickup_longitude': -174.25706, 'pickup_address': '338 Trainor Row', 'dropoff_latitude': 29.193442, 'dropoff_longitude': -176.521285, 'dropoff_address': '110 Aquavista Spur', 'payment_method': 'debit_card', 'vehicle_type': 'premium', 'num_passengers': 2, 'fare_estimate': 29.010000228881836, 'ride_purpose': 'commute', 'device_type': 'mobile'}\n",
            "{'request_id': '50478f48-ff33-4408-850d-29d70d3b1bf3', 'user_id': '296cb9fa-ba13-4540-b757-39005b55c2b8', 'event_type': 'cancel', 'timestamp': 1741914640, 'pickup_latitude': 13.662408, 'pickup_longitude': -81.570241, 'pickup_address': '1063 Coralino Parkway', 'dropoff_latitude': 18.481113, 'dropoff_longitude': -80.743759, 'dropoff_address': '123 Prosper Pine', 'payment_method': 'mobile_payment', 'vehicle_type': 'standard', 'num_passengers': 3, 'fare_estimate': 18.1200008392334, 'ride_purpose': 'business', 'device_type': 'web'}\n"
          ]
        }
      ]
    },
    {
      "cell_type": "code",
      "source": [
        "display_first_ten_records('ride_statuses.avro')"
      ],
      "metadata": {
        "colab": {
          "base_uri": "https://localhost:8080/"
        },
        "id": "suNgrizZj_3e",
        "outputId": "7791aabc-4a7d-48f4-c22d-db7bcc7e3e9a"
      },
      "execution_count": null,
      "outputs": [
        {
          "output_type": "stream",
          "name": "stdout",
          "text": [
            "{'ride_id': '20d89972-828a-4298-b3dc-0e0dfca9aaf6', 'request_id': '0f401c87-d4c8-4da7-9809-bb0ccf128a5f', 'status': 'accepted', 'timestamp': 1741914641, 'driver_id': '46de0cba-f0b6-4a37-9894-b406b8cd2494', 'estimated_arrival_time': 1741915121, 'actual_arrival_time': None, 'ride_duration': None, 'distance_traveled': None, 'fare': 34.709999084472656, 'surge_multiplier': 1.9700000286102295, 'traffic_condition': 'medium', 'weather_condition': 'clear', 'day_of_week': 'Friday', 'driver_rating': None, 'cancellation_reason': None, 'payment_status': 'completed'}\n",
            "{'ride_id': '780ed263-7eca-4246-ba95-2eeb9249fe67', 'request_id': '5c109323-3174-4491-acd9-bbb8112aac99', 'status': 'completed', 'timestamp': 1741900241, 'driver_id': 'd4df4554-d959-4aae-89d3-d036ab7d8089', 'estimated_arrival_time': 1741900466, 'actual_arrival_time': 1741900475, 'ride_duration': 29, 'distance_traveled': 27.420000076293945, 'fare': 45.27000045776367, 'surge_multiplier': 1.909999966621399, 'traffic_condition': 'low', 'weather_condition': 'stormy', 'day_of_week': 'Thursday', 'driver_rating': 4.599999904632568, 'cancellation_reason': None, 'payment_status': 'pending'}\n",
            "{'ride_id': 'b439786a-54ae-4355-9997-26a7034932f1', 'request_id': '5752d0f5-3095-4371-bd3c-0a07dbba6318', 'status': 'completed', 'timestamp': 1741900241, 'driver_id': '925da012-d8a8-4776-ab8e-d746d9e00e7f', 'estimated_arrival_time': 1741900463, 'actual_arrival_time': 1741900500, 'ride_duration': 30, 'distance_traveled': 3.7699999809265137, 'fare': 17.510000228881836, 'surge_multiplier': 2.2300000190734863, 'traffic_condition': 'medium', 'weather_condition': 'clear', 'day_of_week': 'Thursday', 'driver_rating': 4.599999904632568, 'cancellation_reason': None, 'payment_status': 'completed'}\n",
            "{'ride_id': '0ab01b7c-9edd-4934-a712-39371d05a6b7', 'request_id': 'f87fc125-668c-4b37-9e99-a68888b24a07', 'status': 'ongoing', 'timestamp': 1741932641, 'driver_id': 'dc327ad7-c8e4-4823-832e-9121a27a897c', 'estimated_arrival_time': 1741933181, 'actual_arrival_time': 1741933226, 'ride_duration': None, 'distance_traveled': None, 'fare': 36.54999923706055, 'surge_multiplier': 1.2100000381469727, 'traffic_condition': 'high', 'weather_condition': 'stormy', 'day_of_week': 'Friday', 'driver_rating': None, 'cancellation_reason': None, 'payment_status': 'completed'}\n",
            "{'ride_id': '1e7ad43f-22d3-4721-8da5-a646f18c44b0', 'request_id': '2a9422f0-73b0-484c-b4ef-7ceb95de3282', 'status': 'accepted', 'timestamp': 1741939841, 'driver_id': '120dd451-68cd-43aa-b88d-4dbcb047365b', 'estimated_arrival_time': 1741940089, 'actual_arrival_time': None, 'ride_duration': None, 'distance_traveled': None, 'fare': 35.58000183105469, 'surge_multiplier': 1.850000023841858, 'traffic_condition': 'medium', 'weather_condition': 'snowy', 'day_of_week': 'Friday', 'driver_rating': None, 'cancellation_reason': None, 'payment_status': 'completed'}\n",
            "{'ride_id': 'bb6eb8d3-e299-439d-8eee-a73b647c8b80', 'request_id': '510ca6eb-f01d-428d-a175-90c32e742e1f', 'status': 'cancelled', 'timestamp': 1741954241, 'driver_id': '7d0d2908-8045-405d-9b90-01cd6291558b', 'estimated_arrival_time': 1741954574, 'actual_arrival_time': None, 'ride_duration': None, 'distance_traveled': None, 'fare': 12.819999694824219, 'surge_multiplier': 2.309999942779541, 'traffic_condition': 'high', 'weather_condition': 'stormy', 'day_of_week': 'Friday', 'driver_rating': None, 'cancellation_reason': 'driver_unavailable', 'payment_status': 'pending'}\n",
            "{'ride_id': '81131102-25d3-44ce-ad69-086619c93357', 'request_id': 'bbe1e872-ef61-476a-a8e4-8bdc5dc8d0c2', 'status': 'accepted', 'timestamp': 1741954241, 'driver_id': 'c95ea036-8526-4502-816f-b8fea023fc82', 'estimated_arrival_time': 1741954563, 'actual_arrival_time': None, 'ride_duration': None, 'distance_traveled': None, 'fare': 37.310001373291016, 'surge_multiplier': 1.7400000095367432, 'traffic_condition': 'low', 'weather_condition': 'foggy', 'day_of_week': 'Friday', 'driver_rating': None, 'cancellation_reason': None, 'payment_status': 'completed'}\n",
            "{'ride_id': 'fbad1f50-b458-48fd-aff5-b8e8b9071657', 'request_id': '81437828-6d20-4e8b-ba81-dcef77e43cef', 'status': 'cancelled', 'timestamp': 1741932641, 'driver_id': 'af8bb678-14aa-4907-98e4-eeab924dc78c', 'estimated_arrival_time': 1741933182, 'actual_arrival_time': None, 'ride_duration': None, 'distance_traveled': None, 'fare': 34.81999969482422, 'surge_multiplier': 2.240000009536743, 'traffic_condition': 'low', 'weather_condition': 'foggy', 'day_of_week': 'Friday', 'driver_rating': None, 'cancellation_reason': 'technical_issue', 'payment_status': 'pending'}\n",
            "{'ride_id': '68e1c91c-3310-4341-9b30-e75b3bc8d54d', 'request_id': '6657c43e-c099-4f89-8073-231a8b422229', 'status': 'accepted', 'timestamp': 1741914641, 'driver_id': '41c0963f-daea-4202-bfb4-e898f506c301', 'estimated_arrival_time': 1741915018, 'actual_arrival_time': None, 'ride_duration': None, 'distance_traveled': None, 'fare': 18.049999237060547, 'surge_multiplier': 1.409999966621399, 'traffic_condition': 'medium', 'weather_condition': 'clear', 'day_of_week': 'Friday', 'driver_rating': None, 'cancellation_reason': None, 'payment_status': 'completed'}\n",
            "{'ride_id': 'cbe88bf4-b8a2-4c64-8eee-079d557fa945', 'request_id': '50478f48-ff33-4408-850d-29d70d3b1bf3', 'status': 'completed', 'timestamp': 1741921841, 'driver_id': '232159f3-a08c-4821-9674-9b603587c444', 'estimated_arrival_time': 1741922079, 'actual_arrival_time': 1741921964, 'ride_duration': 19, 'distance_traveled': 16.260000228881836, 'fare': 13.720000267028809, 'surge_multiplier': 2.0399999618530273, 'traffic_condition': 'high', 'weather_condition': 'stormy', 'day_of_week': 'Friday', 'driver_rating': 4.400000095367432, 'cancellation_reason': None, 'payment_status': 'failed'}\n"
          ]
        }
      ]
    }
  ]
}